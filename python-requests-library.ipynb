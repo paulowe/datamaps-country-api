{
 "cells": [
  {
   "cell_type": "code",
   "execution_count": 1,
   "id": "2a13603a-123f-462b-8196-f64bc612e902",
   "metadata": {},
   "outputs": [],
   "source": [
    "import requests"
   ]
  },
  {
   "cell_type": "markdown",
   "id": "7635785d-763d-4336-a41d-2666d7d4eae9",
   "metadata": {},
   "source": [
    "## Get requests\n",
    "Indicates you are trying to retrieve data from a specified resource"
   ]
  },
  {
   "cell_type": "code",
   "execution_count": 3,
   "id": "2e4ba99c-dc59-4801-b7eb-028593df22e3",
   "metadata": {},
   "outputs": [
    {
     "data": {
      "text/plain": [
       "<Response [200]>"
      ]
     },
     "execution_count": 3,
     "metadata": {},
     "output_type": "execute_result"
    }
   ],
   "source": [
    "url = 'https://api.github.com'\n",
    "response =requests.get(url)\n",
    "response"
   ]
  },
  {
   "cell_type": "markdown",
   "id": "9261f799-6bb0-4c51-8d58-58b495885638",
   "metadata": {},
   "source": [
    "## Status Codes\n",
    "Status codes are issued by a server in response to a client request\n",
    "\n",
    "1XX : Information\n",
    "\n",
    "2XX : Success - request was received, understood and accpeted\n",
    "\n",
    "3XX : Redirection\n",
    "\n",
    "4XX : Client Errors\n",
    "\n",
    "5XX : Server Errors"
   ]
  },
  {
   "cell_type": "code",
   "execution_count": null,
   "id": "64750d32-45b1-4c6b-b216-5fb93d908b5f",
   "metadata": {},
   "outputs": [],
   "source": []
  }
 ],
 "metadata": {
  "kernelspec": {
   "display_name": "Python 3",
   "language": "python",
   "name": "python3"
  },
  "language_info": {
   "codemirror_mode": {
    "name": "ipython",
    "version": 3
   },
   "file_extension": ".py",
   "mimetype": "text/x-python",
   "name": "python",
   "nbconvert_exporter": "python",
   "pygments_lexer": "ipython3",
   "version": "3.8.8"
  }
 },
 "nbformat": 4,
 "nbformat_minor": 5
}
