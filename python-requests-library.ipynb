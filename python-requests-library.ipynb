{
 "cells": [
  {
   "cell_type": "code",
   "execution_count": 1,
   "id": "2a13603a-123f-462b-8196-f64bc612e902",
   "metadata": {},
   "outputs": [],
   "source": [
    "import requests"
   ]
  },
  {
   "cell_type": "markdown",
   "id": "7635785d-763d-4336-a41d-2666d7d4eae9",
   "metadata": {},
   "source": [
    "## Get requests\n",
    "Indicates you are trying to retrieve data from a specified resource"
   ]
  },
  {
   "cell_type": "code",
   "execution_count": 3,
   "id": "2e4ba99c-dc59-4801-b7eb-028593df22e3",
   "metadata": {},
   "outputs": [
    {
     "data": {
      "text/plain": [
       "<Response [200]>"
      ]
     },
     "execution_count": 3,
     "metadata": {},
     "output_type": "execute_result"
    }
   ],
   "source": [
    "url = 'https://api.github.com'\n",
    "response =requests.get(url)\n",
    "response"
   ]
  },
  {
   "cell_type": "markdown",
   "id": "9261f799-6bb0-4c51-8d58-58b495885638",
   "metadata": {
    "jupyter": {
     "source_hidden": true
    },
    "tags": []
   },
   "source": [
    "## Status Codes\n",
    "Status codes are issued by a server in response to a client request\n",
    "\n",
    "1XX : Information\n",
    "\n",
    "2XX : Success - request was received, understood and accpeted\n",
    "\n",
    "3XX : Redirection\n",
    "\n",
    "4XX : Client Errors\n",
    "\n",
    "5XX : Server Errors"
   ]
  },
  {
   "cell_type": "code",
   "execution_count": 9,
   "id": "64750d32-45b1-4c6b-b216-5fb93d908b5f",
   "metadata": {},
   "outputs": [],
   "source": [
    "base_url = 'https://restcountries.eu/rest/v2/name/'\n",
    "country = 'Tanzania'\n",
    "country_url = base_url + country\n",
    "response = requests.get(country_url)"
   ]
  },
  {
   "cell_type": "code",
   "execution_count": 10,
   "id": "f9b89953-9e8b-4b5c-a9d6-a66f766baf97",
   "metadata": {},
   "outputs": [
    {
     "data": {
      "text/plain": [
       "[{'name': 'Tanzania, United Republic of',\n",
       "  'topLevelDomain': ['.tz'],\n",
       "  'alpha2Code': 'TZ',\n",
       "  'alpha3Code': 'TZA',\n",
       "  'callingCodes': ['255'],\n",
       "  'capital': 'Dodoma',\n",
       "  'altSpellings': ['TZ',\n",
       "   'United Republic of Tanzania',\n",
       "   'Jamhuri ya Muungano wa Tanzania'],\n",
       "  'region': 'Africa',\n",
       "  'subregion': 'Eastern Africa',\n",
       "  'population': 55155000,\n",
       "  'latlng': [-6.0, 35.0],\n",
       "  'demonym': 'Tanzanian',\n",
       "  'area': 945087.0,\n",
       "  'gini': 37.6,\n",
       "  'timezones': ['UTC+03:00'],\n",
       "  'borders': ['BDI', 'COD', 'KEN', 'MWI', 'MOZ', 'RWA', 'UGA', 'ZMB'],\n",
       "  'nativeName': 'Tanzania',\n",
       "  'numericCode': '834',\n",
       "  'currencies': [{'code': 'TZS',\n",
       "    'name': 'Tanzanian shilling',\n",
       "    'symbol': 'Sh'}],\n",
       "  'languages': [{'iso639_1': 'sw',\n",
       "    'iso639_2': 'swa',\n",
       "    'name': 'Swahili',\n",
       "    'nativeName': 'Kiswahili'},\n",
       "   {'iso639_1': 'en',\n",
       "    'iso639_2': 'eng',\n",
       "    'name': 'English',\n",
       "    'nativeName': 'English'}],\n",
       "  'translations': {'de': 'Tansania',\n",
       "   'es': 'Tanzania',\n",
       "   'fr': 'Tanzanie',\n",
       "   'ja': 'タンザニア',\n",
       "   'it': 'Tanzania',\n",
       "   'br': 'Tanzânia',\n",
       "   'pt': 'Tanzânia',\n",
       "   'nl': 'Tanzania',\n",
       "   'hr': 'Tanzanija',\n",
       "   'fa': 'تانزانیا'},\n",
       "  'flag': 'https://restcountries.eu/data/tza.svg',\n",
       "  'regionalBlocs': [{'acronym': 'AU',\n",
       "    'name': 'African Union',\n",
       "    'otherAcronyms': [],\n",
       "    'otherNames': ['الاتحاد الأفريقي',\n",
       "     'Union africaine',\n",
       "     'União Africana',\n",
       "     'Unión Africana',\n",
       "     'Umoja wa Afrika']}],\n",
       "  'cioc': 'TAN'}]"
      ]
     },
     "execution_count": 10,
     "metadata": {},
     "output_type": "execute_result"
    }
   ],
   "source": [
    "response.json()"
   ]
  },
  {
   "cell_type": "code",
   "execution_count": null,
   "id": "3fdd45be-ca03-4219-8f9e-e9a534a8fe47",
   "metadata": {},
   "outputs": [],
   "source": []
  }
 ],
 "metadata": {
  "kernelspec": {
   "display_name": "Python 3",
   "language": "python",
   "name": "python3"
  },
  "language_info": {
   "codemirror_mode": {
    "name": "ipython",
    "version": 3
   },
   "file_extension": ".py",
   "mimetype": "text/x-python",
   "name": "python",
   "nbconvert_exporter": "python",
   "pygments_lexer": "ipython3",
   "version": "3.8.8"
  }
 },
 "nbformat": 4,
 "nbformat_minor": 5
}
